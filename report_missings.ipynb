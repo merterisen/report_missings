{
 "cells": [
  {
   "cell_type": "code",
   "execution_count": 1,
   "metadata": {},
   "outputs": [],
   "source": [
    "# csv_link= path of csv file for example: 'Input.xlsx'\n",
    "# searchby_column_name= which column name you want to filter by eg: Country\n",
    "# save_name_csv= Name of your report for example: 'Output.xlsx'\n",
    "def report_missings():\n",
    "    import pandas as pd\n",
    "\n",
    "    inputfile = input('Enter your file name with .xlsx extension: ')\n",
    "\n",
    "    df = pd.read_excel(inputfile)\n",
    "\n",
    "    searchby_column_name = input((list(df.columns) , 'Enter your column name to search by: '))\n",
    "\n",
    "    outputfile = input('Enter your save file name with .xlsx extension: ')\n",
    "\n",
    "    pivot = pd.DataFrame()\n",
    "    for column in df.columns:\n",
    "        for grouped_by in df[searchby_column_name].unique():\n",
    "            if column != searchby_column_name:\n",
    "                pivot.loc[grouped_by, column] = df[df[searchby_column_name]==grouped_by][column].isna().sum()\n",
    "    pivot = pivot.astype(int)\n",
    "    pivot.to_excel(outputfile)\n",
    "\n",
    "report_missings()"
   ]
  },
  {
   "cell_type": "code",
   "execution_count": null,
   "metadata": {},
   "outputs": [],
   "source": []
  }
 ],
 "metadata": {
  "kernelspec": {
   "display_name": "Python 3.9.13 ('base')",
   "language": "python",
   "name": "python3"
  },
  "language_info": {
   "codemirror_mode": {
    "name": "ipython",
    "version": 3
   },
   "file_extension": ".py",
   "mimetype": "text/x-python",
   "name": "python",
   "nbconvert_exporter": "python",
   "pygments_lexer": "ipython3",
   "version": "3.9.13"
  },
  "orig_nbformat": 4,
  "vscode": {
   "interpreter": {
    "hash": "e12dd48221d847cf2f128b44e713d5b35a93f7b724dcd18c774515b0cc051bb3"
   }
  }
 },
 "nbformat": 4,
 "nbformat_minor": 2
}
